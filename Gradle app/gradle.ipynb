{
 "cells": [
  {
   "cell_type": "code",
   "execution_count": 19,
   "metadata": {},
   "outputs": [],
   "source": [
    "import gradio\n",
    "from nltk.corpus import stopwords\n",
    "from scipy.spatial.distance import cosine\n",
    "from sklearn.pipeline import Pipeline\n",
    "from sklearn.base import BaseEstimator, TransformerMixin"
   ]
  },
  {
   "cell_type": "markdown",
   "metadata": {},
   "source": [
    "#### Chat Interface\n",
    "- Question -> given as input to the chatbot\n",
    "- Preprocessing Pipeline to process question\n",
    "- Embedding data to match cosine similarity\n",
    "- Original context data to get the context\n",
    "- Model to predict the value"
   ]
  },
  {
   "cell_type": "code",
   "execution_count": 20,
   "metadata": {},
   "outputs": [],
   "source": [
    "class LowerCasing(BaseEstimator,TransformerMixin):\n",
    "    \"\"\"Takes the string and converts into lower casing\"\"\"\n",
    "\n",
    "    def fit(self,text,y=None):\n",
    "        return self\n",
    "    \n",
    "    def transform(self,text):\n",
    "        return text.lower()\n",
    "\n",
    "\n",
    "class RemovePunctuation(BaseEstimator, TransformerMixin):\n",
    "    \"\"\"Takes the string and removes punctuation\"\"\"\n",
    "    \n",
    "    def fit(self,text,y=None):\n",
    "        return self\n",
    "    \n",
    "    def transform(self,text):\n",
    "        exclude = '!\"#$%&\\'()*+./:;<=>?@[\\\\]^`{|}~'\n",
    "        text = text.translate(str.maketrans(\"\",\"\",exclude))\n",
    "        text = re.sub(\",\",\" \",text)\n",
    "        text = re.sub(r\"\\(\",\" \",text)\n",
    "        text = re.sub(r\"\\)\",\" \",text)\n",
    "\n",
    "        return text\n",
    "\n",
    "\n",
    "class RemoveAccent(BaseEstimator,TransformerMixin):\n",
    "    \"\"\"Takes string and removes accent words\"\"\"\n",
    "    \n",
    "    def fit(self,text,y=None):\n",
    "        return self\n",
    "    \n",
    "    def transform(self,text):\n",
    "        accent_letters = 'éàáñüãèìöäøõîûçôšâ'\n",
    "        text = text.translate(str.maketrans(\"\",\"\",accent_letters))\n",
    "\n",
    "        return text\n",
    "\n",
    "\n",
    "class RemoveStopWords(BaseEstimator,TransformerMixin):\n",
    "    \"\"\"Takes the string and remove the stopwords\"\"\"\n",
    "    \n",
    "    def fit(self,text,y=None):\n",
    "        return self\n",
    "    \n",
    "    def transform(self,text):\n",
    "        new_text = []\n",
    "        for words in text.split():\n",
    "            if words not in stopwords.words(\"english\"):\n",
    "                new_text.append(words)\n",
    "            else:\n",
    "                new_text.append(\"\")\n",
    "        text = \" \".join(new_text)\n",
    "\n",
    "        return text\n",
    "    \n",
    "\n",
    "pipe = Pipeline([\n",
    "    (\"lower\",LowerCasing()),\n",
    "    (\"remove punctuation\",RemovePunctuation()),\n",
    "    (\"remove accent\",RemoveAccent()),\n",
    "    (\"remove stopwords\",RemoveStopWords())\n",
    "])"
   ]
  },
  {
   "cell_type": "code",
   "execution_count": 10,
   "metadata": {},
   "outputs": [
    {
     "name": "stdout",
     "output_type": "stream",
     "text": [
      "Running on local URL:  http://127.0.0.1:7862\n",
      "\n",
      "To create a public link, set `share=True` in `launch()`.\n"
     ]
    },
    {
     "data": {
      "text/html": [
       "<div><iframe src=\"http://127.0.0.1:7862/\" width=\"100%\" height=\"500\" allow=\"autoplay; camera; microphone; clipboard-read; clipboard-write;\" frameborder=\"0\" allowfullscreen></iframe></div>"
      ],
      "text/plain": [
       "<IPython.core.display.HTML object>"
      ]
     },
     "metadata": {},
     "output_type": "display_data"
    },
    {
     "data": {
      "text/plain": []
     },
     "execution_count": 10,
     "metadata": {},
     "output_type": "execute_result"
    }
   ],
   "source": [
    "import random\n",
    "import gradio as gr\n",
    "from typing import List\n",
    "\n",
    "def random_response(message: str, history: List):\n",
    "    \"\"\"\n",
    "    The function handles whatever is to be shown in chatbot\n",
    "    \n",
    "    Args:\n",
    "    \n",
    "    message (str) - representing the user's input.\n",
    "    history (a list of list) representing the conversations up until that point. Each inner list consists of two str representing a pair: [user input, bot response].\n",
    "    \n",
    "    Returns:\n",
    "    Output to be shown\n",
    "    \n",
    "    \"\"\"\n",
    "    processed_question = pipe.fit_transform(message) \n",
    "    \n",
    "    return random.choice([\"Yes\", \"ass\"])\n",
    "\n",
    "demo = gr.ChatInterface(random_response)\n",
    "\n",
    "demo.launch()\n"
   ]
  },
  {
   "cell_type": "code",
   "execution_count": 12,
   "metadata": {},
   "outputs": [
    {
     "name": "stdout",
     "output_type": "stream",
     "text": [
      "Running on local URL:  http://127.0.0.1:7864\n",
      "\n",
      "To create a public link, set `share=True` in `launch()`.\n"
     ]
    },
    {
     "data": {
      "text/html": [
       "<div><iframe src=\"http://127.0.0.1:7864/\" width=\"100%\" height=\"500\" allow=\"autoplay; camera; microphone; clipboard-read; clipboard-write;\" frameborder=\"0\" allowfullscreen></iframe></div>"
      ],
      "text/plain": [
       "<IPython.core.display.HTML object>"
      ]
     },
     "metadata": {},
     "output_type": "display_data"
    },
    {
     "data": {
      "text/plain": []
     },
     "execution_count": 12,
     "metadata": {},
     "output_type": "execute_result"
    }
   ],
   "source": [
    "import time\n",
    "import gradio as gr\n",
    "\n",
    "def slow_echo(message, history):\n",
    "    for i in range(len(message)):\n",
    "        time.sleep(0.3)\n",
    "        yield \"You typed: \" + message[: i+1]\n",
    "\n",
    "gr.ChatInterface(slow_echo).queue().launch()"
   ]
  },
  {
   "cell_type": "code",
   "execution_count": 18,
   "metadata": {},
   "outputs": [
    {
     "name": "stdout",
     "output_type": "stream",
     "text": [
      "Caching examples at: '/home/sugam/Work/10-19 NLP/12 Projects/Resume Builder/Gradle app/gradio_cached_examples/185'\n",
      "Caching example 1/3\n",
      "Caching example 2/3\n",
      "Caching example 3/3\n",
      "Running on local URL:  http://127.0.0.1:7868\n",
      "\n",
      "To create a public link, set `share=True` in `launch()`.\n"
     ]
    },
    {
     "data": {
      "text/html": [
       "<div><iframe src=\"http://127.0.0.1:7868/\" width=\"100%\" height=\"500\" allow=\"autoplay; camera; microphone; clipboard-read; clipboard-write;\" frameborder=\"0\" allowfullscreen></iframe></div>"
      ],
      "text/plain": [
       "<IPython.core.display.HTML object>"
      ]
     },
     "metadata": {},
     "output_type": "display_data"
    },
    {
     "data": {
      "text/plain": []
     },
     "execution_count": 18,
     "metadata": {},
     "output_type": "execute_result"
    }
   ],
   "source": [
    "import gradio as gr\n",
    "\n",
    "def yes_man(message, history):\n",
    "    if message.endswith(\"?\"):\n",
    "        to_return = \"yes\"\n",
    "        for i in range(len(to_return)):\n",
    "            time.sleep(0.1)\n",
    "            yield \"Generated: \" + to_return[: i+1]\n",
    "    else:\n",
    "        to_return = \"Ask me anything\"\n",
    "        for i in range(len(to_return)):\n",
    "            time.sleep(0.1)\n",
    "            yield \"Generated: \" + to_return[: i+1]\n",
    "\n",
    "gr.ChatInterface(\n",
    "    yes_man,\n",
    "    chatbot=gr.Chatbot(height=300),\n",
    "    textbox=gr.Textbox(placeholder=\"Ask me a yes or no question\", container=False, scale=7),\n",
    "    title=\"Resume Question Answering\",\n",
    "    description=\"Ask question about job\",\n",
    "    theme=\"soft\",\n",
    "    examples=[\"Hello\", \"Am I cool?\", \"Are tomatoes vegetables?\"],\n",
    "    cache_examples=True,\n",
    "    retry_btn=None,\n",
    "    undo_btn=\"Delete Previous\",\n",
    "    clear_btn=\"Clear\",\n",
    ").queue().launch()"
   ]
  },
  {
   "cell_type": "code",
   "execution_count": null,
   "metadata": {},
   "outputs": [],
   "source": []
  }
 ],
 "metadata": {
  "kernelspec": {
   "display_name": "simple_transformer",
   "language": "python",
   "name": "python3"
  },
  "language_info": {
   "codemirror_mode": {
    "name": "ipython",
    "version": 3
   },
   "file_extension": ".py",
   "mimetype": "text/x-python",
   "name": "python",
   "nbconvert_exporter": "python",
   "pygments_lexer": "ipython3",
   "version": "3.9.15"
  }
 },
 "nbformat": 4,
 "nbformat_minor": 2
}
