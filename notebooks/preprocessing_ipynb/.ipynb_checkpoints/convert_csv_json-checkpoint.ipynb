{
 "cells": [
  {
   "cell_type": "code",
   "execution_count": 1,
   "id": "9218a307-b5ba-46b7-8cff-b0b2c0d0cf92",
   "metadata": {},
   "outputs": [],
   "source": [
    "# The directory for top level folder\n",
    "dir_ = \"/home/sugam/Work/10-19 NLP/12 Projects/Resume Builder/data/\""
   ]
  },
  {
   "cell_type": "code",
   "execution_count": 2,
   "id": "2f2a4fce-07c3-4696-b7d2-16afd8c467ca",
   "metadata": {},
   "outputs": [],
   "source": [
    "raw_data_dir = dir_ + 'raw/'\n",
    "processed_data_dir = dir_+'Processed/'"
   ]
  },
  {
   "cell_type": "code",
   "execution_count": 3,
   "id": "236416d6-b998-4048-8701-9fafbb096cd7",
   "metadata": {},
   "outputs": [],
   "source": [
    "import pandas as pd\n",
    "import numpy as np\n",
    "import re"
   ]
  },
  {
   "cell_type": "code",
   "execution_count": 28,
   "id": "68dcd612-6ed1-4097-ac27-d00468cd1bf2",
   "metadata": {},
   "outputs": [
    {
     "name": "stdout",
     "output_type": "stream",
     "text": [
      "⏳ Loading Data\n",
      "✅ Done Loading\n"
     ]
    }
   ],
   "source": [
    "####################### LOAD DATA\n",
    "##################################################################\n",
    "def load_data(url: str) ->pd.DataFrame:\n",
    "    \"\"\"\n",
    "    Loads the dataframe into memory\n",
    "\n",
    "    Args:\n",
    "      url (string) - the path to the dataframe\n",
    "\n",
    "    Returns:\n",
    "      df (pandas dataframe)\n",
    "    \"\"\"\n",
    "    \n",
    "    print(\"⏳ Loading Data\")\n",
    "    \n",
    "    # Refering our data without any modification and dtype\n",
    "    if(url[-3:]==\"csv\"):\n",
    "        df = pd.read_csv(url)\n",
    "        \n",
    "        for col in list(df):  # List out the column names\n",
    "            if \"Unnamed\" in col:  # Checks if the column contains Unnamed in it \n",
    "                df.drop(col, axis=1,inplace=True) # Removes the Garbage column\n",
    "    else:\n",
    "        df = pd.read_json(url, lines=True)\n",
    "\n",
    "\n",
    "    \n",
    "    print(f\"✅ Done Loading\")    \n",
    "    return df\n",
    "\n",
    "\n",
    "df_dir= processed_data_dir+\"final.csv\"\n",
    "\n",
    "df = load_data(df_dir)"
   ]
  },
  {
   "cell_type": "code",
   "execution_count": 29,
   "id": "ae836c9c-d7dc-40f0-94a1-0eddfa8d3f38",
   "metadata": {},
   "outputs": [],
   "source": [
    "### Separating the top 1000 for making question answering dataset\n",
    "df = df[[\"jobtitle\",\"company\",\"job_role\",\"joblocation\",\"education\",\"experience\",\"skills\",\"industry\",\"payrate\"]]\n",
    "df_1000 = df.iloc[:1000].copy()"
   ]
  },
  {
   "cell_type": "code",
   "execution_count": 30,
   "id": "16432f8b-f949-44c3-a076-76bc87c44c36",
   "metadata": {},
   "outputs": [
    {
     "data": {
      "text/html": [
       "<div>\n",
       "<style scoped>\n",
       "    .dataframe tbody tr th:only-of-type {\n",
       "        vertical-align: middle;\n",
       "    }\n",
       "\n",
       "    .dataframe tbody tr th {\n",
       "        vertical-align: top;\n",
       "    }\n",
       "\n",
       "    .dataframe thead th {\n",
       "        text-align: right;\n",
       "    }\n",
       "</style>\n",
       "<table border=\"1\" class=\"dataframe\">\n",
       "  <thead>\n",
       "    <tr style=\"text-align: right;\">\n",
       "      <th></th>\n",
       "      <th>jobtitle</th>\n",
       "      <th>company</th>\n",
       "      <th>job_role</th>\n",
       "      <th>joblocation</th>\n",
       "      <th>education</th>\n",
       "      <th>experience</th>\n",
       "      <th>skills</th>\n",
       "      <th>industry</th>\n",
       "      <th>payrate</th>\n",
       "    </tr>\n",
       "  </thead>\n",
       "  <tbody>\n",
       "    <tr>\n",
       "      <th>0</th>\n",
       "      <td>Walkin Data Entry Operator (night Shift)</td>\n",
       "      <td>MM Media Pvt Ltd</td>\n",
       "      <td>Fresher Keyskills English Typing Part Time Dat...</td>\n",
       "      <td>Bangalore</td>\n",
       "      <td>Postgraduate</td>\n",
       "      <td>0 - 1 yrs</td>\n",
       "      <td>ITES</td>\n",
       "      <td>Media / Entertainment / Internet</td>\n",
       "      <td>1,50,000 - 2,25,000 P.A</td>\n",
       "    </tr>\n",
       "    <tr>\n",
       "      <th>1</th>\n",
       "      <td>Work Based Onhome Based Part Time.</td>\n",
       "      <td>find live infotech</td>\n",
       "      <td>Search Engine Marketing/SEM Specialist Keyskil...</td>\n",
       "      <td>Lucknow</td>\n",
       "      <td>M.Tech</td>\n",
       "      <td>0 - 0 yrs</td>\n",
       "      <td>Marketing</td>\n",
       "      <td>Advertising / PR / MR / Event Management</td>\n",
       "      <td>1,50,000 - 2,50,000 P.A. 20000</td>\n",
       "    </tr>\n",
       "    <tr>\n",
       "      <th>2</th>\n",
       "      <td>Pl/sql Developer - SQL</td>\n",
       "      <td>Softtech Career Infosystem Pvt. Ltd</td>\n",
       "      <td>Software Developer Keyskills SQL Loader PL SQL...</td>\n",
       "      <td>Hyderabad</td>\n",
       "      <td>M.Sc(Science)-Computers</td>\n",
       "      <td>4 - 8 yrs</td>\n",
       "      <td>IT Software - Application Programming</td>\n",
       "      <td>IT-Software / Software Services</td>\n",
       "      <td>Not Disclosed by Recruiter</td>\n",
       "    </tr>\n",
       "    <tr>\n",
       "      <th>3</th>\n",
       "      <td>Manager/ad/partner - Indirect Tax - CA</td>\n",
       "      <td>Onboard HRServices LLP</td>\n",
       "      <td>Taxation(Indirect) Manager Keyskills Service T...</td>\n",
       "      <td>Chennai</td>\n",
       "      <td>MS/M.Sc(Science)</td>\n",
       "      <td>11 - 15 yrs</td>\n",
       "      <td>Accounts</td>\n",
       "      <td>Banking / Financial Services / Broking</td>\n",
       "      <td>Not Disclosed by Recruiter</td>\n",
       "    </tr>\n",
       "    <tr>\n",
       "      <th>4</th>\n",
       "      <td>JAVA Technical Lead (6-8 yrs) -</td>\n",
       "      <td>Spire Technologies and Solutions Pvt. Ltd.</td>\n",
       "      <td>Team Lead/Technical Lead Keyskills Javascript ...</td>\n",
       "      <td>Pune</td>\n",
       "      <td>Diploma-Electronics/Telecommunication</td>\n",
       "      <td>6 - 8 yrs</td>\n",
       "      <td>IT Software - Application Programming</td>\n",
       "      <td>IT-Software / Software Services</td>\n",
       "      <td>Not Disclosed by Recruiter</td>\n",
       "    </tr>\n",
       "  </tbody>\n",
       "</table>\n",
       "</div>"
      ],
      "text/plain": [
       "                                   jobtitle  \\\n",
       "0  Walkin Data Entry Operator (night Shift)   \n",
       "1        Work Based Onhome Based Part Time.   \n",
       "2                    Pl/sql Developer - SQL   \n",
       "3    Manager/ad/partner - Indirect Tax - CA   \n",
       "4           JAVA Technical Lead (6-8 yrs) -   \n",
       "\n",
       "                                      company  \\\n",
       "0                            MM Media Pvt Ltd   \n",
       "1                          find live infotech   \n",
       "2         Softtech Career Infosystem Pvt. Ltd   \n",
       "3                      Onboard HRServices LLP   \n",
       "4  Spire Technologies and Solutions Pvt. Ltd.   \n",
       "\n",
       "                                            job_role joblocation  \\\n",
       "0  Fresher Keyskills English Typing Part Time Dat...   Bangalore   \n",
       "1  Search Engine Marketing/SEM Specialist Keyskil...     Lucknow   \n",
       "2  Software Developer Keyskills SQL Loader PL SQL...   Hyderabad   \n",
       "3  Taxation(Indirect) Manager Keyskills Service T...     Chennai   \n",
       "4  Team Lead/Technical Lead Keyskills Javascript ...        Pune   \n",
       "\n",
       "                               education   experience  \\\n",
       "0                           Postgraduate    0 - 1 yrs   \n",
       "1                                 M.Tech    0 - 0 yrs   \n",
       "2                M.Sc(Science)-Computers    4 - 8 yrs   \n",
       "3                       MS/M.Sc(Science)  11 - 15 yrs   \n",
       "4  Diploma-Electronics/Telecommunication    6 - 8 yrs   \n",
       "\n",
       "                                  skills  \\\n",
       "0                                   ITES   \n",
       "1                              Marketing   \n",
       "2  IT Software - Application Programming   \n",
       "3                               Accounts   \n",
       "4  IT Software - Application Programming   \n",
       "\n",
       "                                   industry                         payrate  \n",
       "0          Media / Entertainment / Internet         1,50,000 - 2,25,000 P.A  \n",
       "1  Advertising / PR / MR / Event Management  1,50,000 - 2,50,000 P.A. 20000  \n",
       "2           IT-Software / Software Services      Not Disclosed by Recruiter  \n",
       "3    Banking / Financial Services / Broking      Not Disclosed by Recruiter  \n",
       "4           IT-Software / Software Services      Not Disclosed by Recruiter  "
      ]
     },
     "execution_count": 30,
     "metadata": {},
     "output_type": "execute_result"
    }
   ],
   "source": [
    "df_1000.head()"
   ]
  },
  {
   "cell_type": "code",
   "execution_count": 31,
   "id": "a1f2d690-0d22-4d9e-85c1-c12db37fca5d",
   "metadata": {},
   "outputs": [],
   "source": [
    "df_1000 = (\n",
    "    \"JT_\" + df_1000[\"jobtitle\"] + \\\n",
    "    \",CO_\" + df_1000[\"company\"] +\\\n",
    "    \",JR_\" + df_1000[\"job_role\"] + \\\n",
    "    \",JL_\" + df_1000[\"joblocation\"] + \\\n",
    "    \",ED_\" + df_1000[\"education\"] + \\\n",
    "    \",EX_\" + df_1000[\"experience\"] + \\\n",
    "    \",SK_\" + df_1000[\"skills\"] + \\\n",
    "    \",IN_\" + df_1000[\"industry\"] + \\\n",
    "    \",PR_\" + df_1000[\"payrate\"]\n",
    ")"
   ]
  },
  {
   "cell_type": "code",
   "execution_count": 38,
   "id": "0c5bae85-e50b-429c-8a29-286b2efd6714",
   "metadata": {},
   "outputs": [
    {
     "data": {
      "text/plain": [
       "'JT_Urgent Hiring for Asp.net Developer(4-5 Yrs),CO_MPS Ltd.,JR_Software Developer Keyskills asp.net c# c sharp .net .net developer dot net developer asp.net developer asp dot net developer asp . net developer asp dotnet developer asp .net developer sql sql server web software engineer software developer ms sql server Desired Candidate Profile Walkin Interview-12,13th Oct 2016 Timing-10-4 pm Contact-Nupur MPS Limited # 137 HMG Ambassadors, Residency Road, Bangalore-25 Call: (+91)(080)41784000 / 4137/4137 Land Mark: Opp Bangalore Club,above Huzafia Decor Showroom ,JL_Pune,ED_BHM-Hotel Management,EX_4 - 6 yrs,SK_IT Software - Application Programming,IN_IT-Software / Software Services,PR_Not Disclosed by Recruiter'"
      ]
     },
     "execution_count": 38,
     "metadata": {},
     "output_type": "execute_result"
    }
   ],
   "source": [
    "df_1000[500]"
   ]
  },
  {
   "cell_type": "code",
   "execution_count": 23,
   "id": "24218791-0684-4e33-b678-6522a12e2a95",
   "metadata": {},
   "outputs": [],
   "source": [
    "def remove_garbage(x):\n",
    "    x = re.sub(r\"/\",\",\",str(x)) # Replace \\n with nothing\n",
    "    x = re.sub(r\"\\xa0\",\"\",str(x)) # Replace \\n with nothing\n",
    "    # x = re.sub(r\"\\/\",\" \",x) # Replace \\ / with a space\n",
    "    # x = re.sub(r'\\s{2,}', ' ', x) # Replace more than 2 spaces witha 1\n",
    "    \n",
    "    return x\n",
    "    \n",
    "\n",
    "df_1000 = df_1000.map(remove_garbage)"
   ]
  },
  {
   "cell_type": "code",
   "execution_count": 27,
   "id": "92fb3dbe-2aae-4c37-af4d-56081b172d55",
   "metadata": {},
   "outputs": [
    {
     "data": {
      "text/plain": [
       "'JT_Big Data Hadoop Developer,CO_dynproindia,JR_Software Developer Keyskills Hadoop Developer Hadoop mapreduce pig hbase hive spark hdfs Desired Candidate Profile Please refer to the Job description above ,JL_Nagpur,ED_Diploma-Electrical,EX_3 - 6 yrs,SK_IT Software - Application Programming,IN_IT-Software , Software Services,PR_1,00,000 - 5,00,000 P.A'"
      ]
     },
     "execution_count": 27,
     "metadata": {},
     "output_type": "execute_result"
    }
   ],
   "source": [
    "df_1000[100]"
   ]
  },
  {
   "cell_type": "code",
   "execution_count": 64,
   "id": "b1432ca6-21f2-46d8-b130-cd1ff7e14f94",
   "metadata": {},
   "outputs": [],
   "source": [
    "def find_index(row,df):\n",
    "    title_index = df[row].find(\"JT_\") + 2\n",
    "    company_index = df[row].find(\"CO_\") + 2\n",
    "    job_role_index = df[row].find(\"JR_\") + 2\n",
    "    job_location_index = df[row].find(\"JL_\") + 2\n",
    "    education_index = df[row].find(\"ED_\") + 2\n",
    "    experience_index = df[row].find(\"EX_\") + 2\n",
    "    skills_index = df[row].find(\"IN_\") + 2\n",
    "    payrate_index = df[row].find(\"PR_\") + 2\n",
    "\n",
    "    print(f\"title_index {title_index}\")\n",
    "    print(f\"category_index {category_index}\")\n",
    "    print(f\"company_name_index {company_name_index}\")\n",
    "    print(f\"country_index {country_index}\")\n",
    "    print(f\"post_date_index {post_date_index}\")\n",
    "    print(f\"job_desc_index {job_desc_index}\")\n",
    "    print(f\"job_type_index {job_type_index}\")\n",
    "    print(f\"url_index {url_index}\")"
   ]
  },
  {
   "cell_type": "code",
   "execution_count": 68,
   "id": "9392d3f2-a2f4-452a-a051-55557155eda1",
   "metadata": {},
   "outputs": [
    {
     "name": "stdout",
     "output_type": "stream",
     "text": [
      "title_index 2\n",
      "category_index 19\n",
      "company_name_index 40\n",
      "country_index 60\n",
      "post_date_index 67\n",
      "job_desc_index 81\n",
      "job_type_index 3511\n",
      "url_index 3525\n"
     ]
    }
   ],
   "source": [
    "find_index(10,data_scientist_1000_final)"
   ]
  },
  {
   "cell_type": "code",
   "execution_count": 70,
   "id": "4160a69e-2434-4577-b401-97d2eb23d863",
   "metadata": {},
   "outputs": [
    {
     "data": {
      "text/plain": [
       "\"Read what people are saying about working here. At Northrop Grumman, innovation isn't just an idea-it's a way of life. Our employees have incredible opportunities to work on revolutionary systems in air and space that impact lives around the world today, and for generations to come. Our work preserves freedom and democracy, and advances human discovery and our understanding of the universe. We look for people who have bold new ideas, courage and a pioneering spirit to join forces to invent the future.Northrop Grumman is seeking a Data Scientist to become part of the organization supporting the Army Analytics Group's Research Facilitation Laboratory located in Monterey, California. The team conducts a variety of research studies and supports data analytics efforts for clients across the Army, Office of the Secretary of Defense and greater DoD, conducting high-quality research with practical real-world implications. The team works primarily within a data environment that houses a wealth of administrative, personnel, survey, and medical data (i.e., big data) on extremely large populations. Projects generally focus on resilience, health, and readiness among military service members, and include population-based studies, machine learning projects, visual analytics platforms, measurement analysis, and pilot program evaluations.The Data Scientist will work with a team of researchers using large administrative data assets for studies examining health and readiness among U.S. military service members.The Data Scientist will support several projects. Primary tasks include cleaning, preparing, merging, and analyzing large, population datasets from multiple sources.Basic Qualifications:2 years' relevant experience plus a Bachelor's Degree in Epidemiology, Statistics, Biostatistics, Applied Mathematics, Operations Research, or other relevant field is required.Experience with basic statistical analyses (e.g., t-tests, ANOVA, factor analysis, linear and logistic regression), and proficiency with statistical programs such as R, SAS, MATLAB, or SPSS is required.Successful candidates will have demonstrated experience in data management (e.g., Oracle, Excel, SQL).US Citizenship is requiredThe ability to work in Monterey is required (no telecommuting is available for this position)Preferred Qualifications:Master's Degree in Epidemiology, Statistics, Biostatistics, Applied Mathematics, Operations Research, or other relevant field is strongly preferred.Ideal candidates will have demonstrated programming and or scripting experience (e.g., Python, C#, Java, Perl).Experience with sophisticated analyses (e.g., longitudinal modeling, machine learning, non-parametric statistical modeling) and data visualization (e.g., Tableau, Qlik, R Shiny, Microstrategy) is preferred.Northrop Grumman is committed to hiring and retaining a diverse workforce. We are proud to be an Equal Opportunity Affirmative Action Employer, making decisions without regard to race, color, religion, creed, sex, sexual orientation, gender identity, marital status, national origin, age, veteran status, disability, or any other protected class. For our complete EEO AA and Pay Transparency statement, please visit www.northropgrumman.com EEO. U.S. Citizenship is required for most positions. Northrop Grumman is a leading global security company providing innovative systems, products and solutions in aerospace, electronics, inf...,JT_\""
      ]
     },
     "execution_count": 70,
     "metadata": {},
     "output_type": "execute_result"
    }
   ],
   "source": [
    "data_scientist_1000_final[10][81:3511]"
   ]
  },
  {
   "cell_type": "code",
   "execution_count": 55,
   "id": "d3790c86-6b0d-4246-a31d-dadd94350dce",
   "metadata": {},
   "outputs": [
    {
     "data": {
      "text/plain": [
       "'Undefined,URL_'"
      ]
     },
     "execution_count": 55,
     "metadata": {},
     "output_type": "execute_result"
    }
   ],
   "source": [
    "data_scientist_1000_final[0][job_type_index:url_index]"
   ]
  },
  {
   "cell_type": "code",
   "execution_count": null,
   "id": "be67c755-cfd2-4f0b-a228-b7de72a4e49a",
   "metadata": {},
   "outputs": [],
   "source": []
  },
  {
   "cell_type": "code",
   "execution_count": null,
   "id": "81e98f0a-f249-4991-86df-9033da264079",
   "metadata": {},
   "outputs": [],
   "source": []
  },
  {
   "cell_type": "code",
   "execution_count": 18,
   "id": "fa35ccab-e04c-4396-b840-f634abc8b48f",
   "metadata": {},
   "outputs": [],
   "source": [
    "json_objects= []\n",
    "for index, value in data_scientist_1000_final.items():\n",
    "    json_objects.append({\"context\":value})"
   ]
  },
  {
   "cell_type": "code",
   "execution_count": 19,
   "id": "86d7b18c-858a-4a65-b013-8a0dce694fcd",
   "metadata": {},
   "outputs": [],
   "source": [
    "df2 = pd.DataFrame(json_objects)"
   ]
  },
  {
   "cell_type": "code",
   "execution_count": 20,
   "id": "58ff4342-15e3-4184-99c8-412f1f2eb1ce",
   "metadata": {},
   "outputs": [],
   "source": [
    "# Convert the DataFrame to JSON\n",
    "json_data = df2.to_json(orient='records')\n",
    "\n",
    "file_path = processed_data_dir+\"first_1000.json\"\n",
    "# Write the JSON data to the file\n",
    "with open(file_path, 'w') as json_file:\n",
    "    json_file.write(json_data)"
   ]
  },
  {
   "cell_type": "code",
   "execution_count": null,
   "id": "9c6744a4-b2e8-4c8f-8257-e0218bbaf53f",
   "metadata": {},
   "outputs": [],
   "source": []
  }
 ],
 "metadata": {
  "kernelspec": {
   "display_name": "Python 3 (ipykernel)",
   "language": "python",
   "name": "python3"
  },
  "language_info": {
   "codemirror_mode": {
    "name": "ipython",
    "version": 3
   },
   "file_extension": ".py",
   "mimetype": "text/x-python",
   "name": "python",
   "nbconvert_exporter": "python",
   "pygments_lexer": "ipython3",
   "version": "3.11.6"
  }
 },
 "nbformat": 4,
 "nbformat_minor": 5
}
