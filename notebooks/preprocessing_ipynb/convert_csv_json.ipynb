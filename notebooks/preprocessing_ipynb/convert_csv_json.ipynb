{
 "cells": [
  {
   "cell_type": "code",
   "execution_count": 24,
   "id": "9218a307-b5ba-46b7-8cff-b0b2c0d0cf92",
   "metadata": {},
   "outputs": [],
   "source": [
    "# The directory for top level folder\n",
    "dir_ = \"/home/sugam/Work/10-19 NLP/12 Projects/Resume Builder/data/\""
   ]
  },
  {
   "cell_type": "code",
   "execution_count": 25,
   "id": "2f2a4fce-07c3-4696-b7d2-16afd8c467ca",
   "metadata": {},
   "outputs": [],
   "source": [
    "raw_data_dir = dir_ + 'raw/'\n",
    "processed_data_dir = dir_+'Processed/'"
   ]
  },
  {
   "cell_type": "code",
   "execution_count": 26,
   "id": "236416d6-b998-4048-8701-9fafbb096cd7",
   "metadata": {},
   "outputs": [],
   "source": [
    "import pandas as pd\n",
    "import numpy as np\n",
    "import re"
   ]
  },
  {
   "cell_type": "code",
   "execution_count": 27,
   "id": "68dcd612-6ed1-4097-ac27-d00468cd1bf2",
   "metadata": {},
   "outputs": [
    {
     "name": "stdout",
     "output_type": "stream",
     "text": [
      "⏳ Loading Data\n",
      "✅ Done Loading\n",
      "⏳ Loading Data\n",
      "✅ Done Loading\n"
     ]
    }
   ],
   "source": [
    "####################### LOAD DATA\n",
    "##################################################################\n",
    "def load_data(url: str) ->pd.DataFrame:\n",
    "    \"\"\"\n",
    "    Loads the dataframe into memory\n",
    "\n",
    "    Args:\n",
    "      url (string) - the path to the dataframe\n",
    "\n",
    "    Returns:\n",
    "      df (pandas dataframe)\n",
    "    \"\"\"\n",
    "    \n",
    "    print(\"⏳ Loading Data\")\n",
    "    \n",
    "    # Refering our data without any modification and dtype\n",
    "    if(url[-3:]==\"csv\"):\n",
    "        df = pd.read_csv(url)\n",
    "        \n",
    "        for col in list(df):  # List out the column names\n",
    "            if \"Unnamed\" in col:  # Checks if the column contains Unnamed in it \n",
    "                df.drop(col, axis=1,inplace=True) # Removes the Garbage column\n",
    "    else:\n",
    "        df = pd.read_json(url, lines=True)\n",
    "\n",
    "\n",
    "    \n",
    "    print(f\"✅ Done Loading\")    \n",
    "    return df\n",
    "\n",
    "\n",
    "ds_dir= raw_data_dir+\"data_scientist_united_states_job_postings_jobspikr.csv\"\n",
    "software_developers_dir = raw_data_dir+\"software_developer_united_states_1971_20191023_1(1).csv\"\n",
    "\n",
    "ds = load_data(ds_dir)\n",
    "software_developers = load_data(software_developers_dir)"
   ]
  },
  {
   "cell_type": "code",
   "execution_count": 28,
   "id": "814495c0-8fa2-4551-a22d-f1808e4e7b7d",
   "metadata": {},
   "outputs": [],
   "source": [
    "# Dropping unnecessary columns from the dataframes\n",
    "ds.drop([\"crawl_timestamp\",\"html_job_description\",\"uniq_id\",\"contact_phone_number\",\"cursor\"], axis=1,inplace=True)\n",
    "software_developers.drop([\"crawl_timestamp\",\"uniq_id\",\"contact_phone_number\",\"cursor\"], axis=1,inplace=True)"
   ]
  },
  {
   "cell_type": "code",
   "execution_count": 29,
   "id": "1f027c5d-aa7c-45bb-9f32-982698186f1f",
   "metadata": {},
   "outputs": [],
   "source": [
    "# Joining everything into a single dataframe and deleting the rest.\n",
    "main_df = pd.concat([ds,software_developers])\n",
    "main_df.drop([\"salary_offered\",\"geo\",\"job_board\",\"city\",\"state\",\"inferred_city\",\"inferred_state\",\"inferred_country\",\"contact_email\"],axis=1,inplace=True)\n",
    "del ds, software_developers"
   ]
  },
  {
   "cell_type": "code",
   "execution_count": 33,
   "id": "4bd7bde9-8edd-4e2c-99df-f3f2103b8622",
   "metadata": {},
   "outputs": [],
   "source": [
    "### Filling NA's with values\n",
    "main_df[\"country\"] = main_df[\"country\"].fillna(\"Unknown\")\n",
    "main_df[\"company_name\"] = main_df[\"company_name\"].fillna(\"Unknown\")\n",
    "main_df[\"category\"] = main_df[\"category\"].fillna(\"Unknown\")"
   ]
  },
  {
   "cell_type": "code",
   "execution_count": 34,
   "id": "ae836c9c-d7dc-40f0-94a1-0eddfa8d3f38",
   "metadata": {},
   "outputs": [],
   "source": [
    "### Separating the top 1000 for making question answering dataset\n",
    "data_scientist_1000 = main_df.iloc[:1000].copy()"
   ]
  },
  {
   "cell_type": "code",
   "execution_count": 35,
   "id": "16432f8b-f949-44c3-a076-76bc87c44c36",
   "metadata": {},
   "outputs": [
    {
     "data": {
      "text/html": [
       "<div>\n",
       "<style scoped>\n",
       "    .dataframe tbody tr th:only-of-type {\n",
       "        vertical-align: middle;\n",
       "    }\n",
       "\n",
       "    .dataframe tbody tr th {\n",
       "        vertical-align: top;\n",
       "    }\n",
       "\n",
       "    .dataframe thead th {\n",
       "        text-align: right;\n",
       "    }\n",
       "</style>\n",
       "<table border=\"1\" class=\"dataframe\">\n",
       "  <thead>\n",
       "    <tr style=\"text-align: right;\">\n",
       "      <th></th>\n",
       "      <th>url</th>\n",
       "      <th>job_title</th>\n",
       "      <th>category</th>\n",
       "      <th>company_name</th>\n",
       "      <th>country</th>\n",
       "      <th>post_date</th>\n",
       "      <th>job_description</th>\n",
       "      <th>job_type</th>\n",
       "    </tr>\n",
       "  </thead>\n",
       "  <tbody>\n",
       "    <tr>\n",
       "      <th>0</th>\n",
       "      <td>https://www.indeed.com/viewjob?jk=fd83355c2b23...</td>\n",
       "      <td>Enterprise Data Scientist I</td>\n",
       "      <td>Accounting/Finance</td>\n",
       "      <td>Farmers Insurance Group</td>\n",
       "      <td>Usa</td>\n",
       "      <td>2019-02-06</td>\n",
       "      <td>Read what people are saying about working here...</td>\n",
       "      <td>Undefined</td>\n",
       "    </tr>\n",
       "    <tr>\n",
       "      <th>1</th>\n",
       "      <td>https://www.dice.com/jobs/detail/Data-Scientis...</td>\n",
       "      <td>Data Scientist</td>\n",
       "      <td>Unknown</td>\n",
       "      <td>Luxoft USA Inc</td>\n",
       "      <td>Usa</td>\n",
       "      <td>2019-02-05</td>\n",
       "      <td>We have an immediate opening for a Sharp Data ...</td>\n",
       "      <td>Undefined</td>\n",
       "    </tr>\n",
       "    <tr>\n",
       "      <th>2</th>\n",
       "      <td>https://www.dice.com/jobs/detail/Data-Scientis...</td>\n",
       "      <td>Data Scientist</td>\n",
       "      <td>Unknown</td>\n",
       "      <td>Cincinnati Bell Technology Solutions</td>\n",
       "      <td>Usa</td>\n",
       "      <td>2019-02-05</td>\n",
       "      <td>Candidates should have the following backgroun...</td>\n",
       "      <td>Full Time</td>\n",
       "    </tr>\n",
       "    <tr>\n",
       "      <th>3</th>\n",
       "      <td>https://www.indeed.com/viewjob?jk=841edd86ead2...</td>\n",
       "      <td>Data Scientist, Aladdin Wealth Tech, Associate...</td>\n",
       "      <td>Accounting/Finance</td>\n",
       "      <td>BlackRock</td>\n",
       "      <td>Usa</td>\n",
       "      <td>2019-02-06</td>\n",
       "      <td>Read what people are saying about working here...</td>\n",
       "      <td>Undefined</td>\n",
       "    </tr>\n",
       "    <tr>\n",
       "      <th>4</th>\n",
       "      <td>https://job-openings.monster.com/senior-data-s...</td>\n",
       "      <td>Senior Data Scientist</td>\n",
       "      <td>biotech</td>\n",
       "      <td>CyberCoders</td>\n",
       "      <td>Usa</td>\n",
       "      <td>2019-02-05</td>\n",
       "      <td>We are seeking an extraordinary Data Scientist...</td>\n",
       "      <td>Full Time</td>\n",
       "    </tr>\n",
       "  </tbody>\n",
       "</table>\n",
       "</div>"
      ],
      "text/plain": [
       "                                                 url  \\\n",
       "0  https://www.indeed.com/viewjob?jk=fd83355c2b23...   \n",
       "1  https://www.dice.com/jobs/detail/Data-Scientis...   \n",
       "2  https://www.dice.com/jobs/detail/Data-Scientis...   \n",
       "3  https://www.indeed.com/viewjob?jk=841edd86ead2...   \n",
       "4  https://job-openings.monster.com/senior-data-s...   \n",
       "\n",
       "                                           job_title            category  \\\n",
       "0                        Enterprise Data Scientist I  Accounting/Finance   \n",
       "1                                     Data Scientist             Unknown   \n",
       "2                                     Data Scientist             Unknown   \n",
       "3  Data Scientist, Aladdin Wealth Tech, Associate...  Accounting/Finance   \n",
       "4                              Senior Data Scientist             biotech   \n",
       "\n",
       "                           company_name country   post_date  \\\n",
       "0               Farmers Insurance Group     Usa  2019-02-06   \n",
       "1                        Luxoft USA Inc     Usa  2019-02-05   \n",
       "2  Cincinnati Bell Technology Solutions     Usa  2019-02-05   \n",
       "3                             BlackRock     Usa  2019-02-06   \n",
       "4                           CyberCoders     Usa  2019-02-05   \n",
       "\n",
       "                                     job_description   job_type  \n",
       "0  Read what people are saying about working here...  Undefined  \n",
       "1  We have an immediate opening for a Sharp Data ...  Undefined  \n",
       "2  Candidates should have the following backgroun...  Full Time  \n",
       "3  Read what people are saying about working here...  Undefined  \n",
       "4  We are seeking an extraordinary Data Scientist...  Full Time  "
      ]
     },
     "execution_count": 35,
     "metadata": {},
     "output_type": "execute_result"
    }
   ],
   "source": [
    "data_scientist_1000.head()"
   ]
  },
  {
   "cell_type": "code",
   "execution_count": 36,
   "id": "a1f2d690-0d22-4d9e-85c1-c12db37fca5d",
   "metadata": {},
   "outputs": [],
   "source": [
    "data_scientist_1000_final = (\n",
    "    \"T_\" + data_scientist_1000[\"job_title\"] + \\\n",
    "    \",C_\" + data_scientist_1000[\"category\"] + \\\n",
    "    \",CN_\" + data_scientist_1000[\"company_name\"] +\\\n",
    "    \",CO_\" + data_scientist_1000[\"country\"] +\\\n",
    "    \",PD_\" + data_scientist_1000[\"post_date\"] + \\\n",
    "    \",JD_\" + data_scientist_1000[\"job_description\"] + \\\n",
    "    \",JT_\" + data_scientist_1000[\"job_type\"] + \\\n",
    "    \",URL_\" + data_scientist_1000[\"url\"]\n",
    ")"
   ]
  },
  {
   "cell_type": "code",
   "execution_count": 38,
   "id": "24218791-0684-4e33-b678-6522a12e2a95",
   "metadata": {},
   "outputs": [],
   "source": [
    "def remove_garbage(x):\n",
    "    x = re.sub(r\"\\n\",\"\",x) # Replace \\n with nothing\n",
    "    x = re.sub(r\"\\\\u\",\"\",x) # Replace \\n with nothing\n",
    "    x = re.sub(r\"\\/\",\" \",x) # Replace \\ / with a space\n",
    "    x = re.sub(r'\\s{2,}', ' ', x) # Replace more than 2 spaces witha 1\n",
    "    \n",
    "    return x\n",
    "    \n",
    "\n",
    "data_scientist_1000_final = data_scientist_1000_final.map(remove_garbage)"
   ]
  },
  {
   "cell_type": "code",
   "execution_count": 64,
   "id": "b1432ca6-21f2-46d8-b130-cd1ff7e14f94",
   "metadata": {},
   "outputs": [],
   "source": [
    "def find_index(row,df):\n",
    "    title_index = df[row].find(\"T_\") + 2\n",
    "    category_index = df[row].find(\"C_\") + 2\n",
    "    company_name_index = df[row].find(\"CN_\") + 3\n",
    "    country_index = df[row].find(\"CO_\") + 3\n",
    "    post_date_index = df[row].find(\"PD_\") + 3\n",
    "    job_desc_index = df[row].find(\"JD_\") + 3\n",
    "    job_type_index = df[row].find(\"JT_\") + 3\n",
    "    url_index = df[row].find(\"URL_\") + 4\n",
    "\n",
    "    print(f\"title_index {title_index}\")\n",
    "    print(f\"category_index {category_index}\")\n",
    "    print(f\"company_name_index {company_name_index}\")\n",
    "    print(f\"country_index {country_index}\")\n",
    "    print(f\"post_date_index {post_date_index}\")\n",
    "    print(f\"job_desc_index {job_desc_index}\")\n",
    "    print(f\"job_type_index {job_type_index}\")\n",
    "    print(f\"url_index {url_index}\")"
   ]
  },
  {
   "cell_type": "code",
   "execution_count": 68,
   "id": "9392d3f2-a2f4-452a-a051-55557155eda1",
   "metadata": {},
   "outputs": [
    {
     "name": "stdout",
     "output_type": "stream",
     "text": [
      "title_index 2\n",
      "category_index 19\n",
      "company_name_index 40\n",
      "country_index 60\n",
      "post_date_index 67\n",
      "job_desc_index 81\n",
      "job_type_index 3511\n",
      "url_index 3525\n"
     ]
    }
   ],
   "source": [
    "find_index(10,data_scientist_1000_final)"
   ]
  },
  {
   "cell_type": "code",
   "execution_count": 70,
   "id": "4160a69e-2434-4577-b401-97d2eb23d863",
   "metadata": {},
   "outputs": [
    {
     "data": {
      "text/plain": [
       "\"Read what people are saying about working here. At Northrop Grumman, innovation isn't just an idea-it's a way of life. Our employees have incredible opportunities to work on revolutionary systems in air and space that impact lives around the world today, and for generations to come. Our work preserves freedom and democracy, and advances human discovery and our understanding of the universe. We look for people who have bold new ideas, courage and a pioneering spirit to join forces to invent the future.Northrop Grumman is seeking a Data Scientist to become part of the organization supporting the Army Analytics Group's Research Facilitation Laboratory located in Monterey, California. The team conducts a variety of research studies and supports data analytics efforts for clients across the Army, Office of the Secretary of Defense and greater DoD, conducting high-quality research with practical real-world implications. The team works primarily within a data environment that houses a wealth of administrative, personnel, survey, and medical data (i.e., big data) on extremely large populations. Projects generally focus on resilience, health, and readiness among military service members, and include population-based studies, machine learning projects, visual analytics platforms, measurement analysis, and pilot program evaluations.The Data Scientist will work with a team of researchers using large administrative data assets for studies examining health and readiness among U.S. military service members.The Data Scientist will support several projects. Primary tasks include cleaning, preparing, merging, and analyzing large, population datasets from multiple sources.Basic Qualifications:2 years' relevant experience plus a Bachelor's Degree in Epidemiology, Statistics, Biostatistics, Applied Mathematics, Operations Research, or other relevant field is required.Experience with basic statistical analyses (e.g., t-tests, ANOVA, factor analysis, linear and logistic regression), and proficiency with statistical programs such as R, SAS, MATLAB, or SPSS is required.Successful candidates will have demonstrated experience in data management (e.g., Oracle, Excel, SQL).US Citizenship is requiredThe ability to work in Monterey is required (no telecommuting is available for this position)Preferred Qualifications:Master's Degree in Epidemiology, Statistics, Biostatistics, Applied Mathematics, Operations Research, or other relevant field is strongly preferred.Ideal candidates will have demonstrated programming and or scripting experience (e.g., Python, C#, Java, Perl).Experience with sophisticated analyses (e.g., longitudinal modeling, machine learning, non-parametric statistical modeling) and data visualization (e.g., Tableau, Qlik, R Shiny, Microstrategy) is preferred.Northrop Grumman is committed to hiring and retaining a diverse workforce. We are proud to be an Equal Opportunity Affirmative Action Employer, making decisions without regard to race, color, religion, creed, sex, sexual orientation, gender identity, marital status, national origin, age, veteran status, disability, or any other protected class. For our complete EEO AA and Pay Transparency statement, please visit www.northropgrumman.com EEO. U.S. Citizenship is required for most positions. Northrop Grumman is a leading global security company providing innovative systems, products and solutions in aerospace, electronics, inf...,JT_\""
      ]
     },
     "execution_count": 70,
     "metadata": {},
     "output_type": "execute_result"
    }
   ],
   "source": [
    "data_scientist_1000_final[10][81:3511]"
   ]
  },
  {
   "cell_type": "code",
   "execution_count": 55,
   "id": "d3790c86-6b0d-4246-a31d-dadd94350dce",
   "metadata": {},
   "outputs": [
    {
     "data": {
      "text/plain": [
       "'Undefined,URL_'"
      ]
     },
     "execution_count": 55,
     "metadata": {},
     "output_type": "execute_result"
    }
   ],
   "source": [
    "data_scientist_1000_final[0][job_type_index:url_index]"
   ]
  },
  {
   "cell_type": "code",
   "execution_count": null,
   "id": "be67c755-cfd2-4f0b-a228-b7de72a4e49a",
   "metadata": {},
   "outputs": [],
   "source": []
  },
  {
   "cell_type": "code",
   "execution_count": null,
   "id": "81e98f0a-f249-4991-86df-9033da264079",
   "metadata": {},
   "outputs": [],
   "source": []
  },
  {
   "cell_type": "code",
   "execution_count": 18,
   "id": "fa35ccab-e04c-4396-b840-f634abc8b48f",
   "metadata": {},
   "outputs": [],
   "source": [
    "json_objects= []\n",
    "for index, value in data_scientist_1000_final.items():\n",
    "    json_objects.append({\"context\":value})"
   ]
  },
  {
   "cell_type": "code",
   "execution_count": 19,
   "id": "86d7b18c-858a-4a65-b013-8a0dce694fcd",
   "metadata": {},
   "outputs": [],
   "source": [
    "df2 = pd.DataFrame(json_objects)"
   ]
  },
  {
   "cell_type": "code",
   "execution_count": 20,
   "id": "58ff4342-15e3-4184-99c8-412f1f2eb1ce",
   "metadata": {},
   "outputs": [],
   "source": [
    "# Convert the DataFrame to JSON\n",
    "json_data = df2.to_json(orient='records')\n",
    "\n",
    "file_path = processed_data_dir+\"first_1000.json\"\n",
    "# Write the JSON data to the file\n",
    "with open(file_path, 'w') as json_file:\n",
    "    json_file.write(json_data)"
   ]
  },
  {
   "cell_type": "code",
   "execution_count": null,
   "id": "9c6744a4-b2e8-4c8f-8257-e0218bbaf53f",
   "metadata": {},
   "outputs": [],
   "source": []
  }
 ],
 "metadata": {
  "kernelspec": {
   "display_name": "Python 3 (ipykernel)",
   "language": "python",
   "name": "python3"
  },
  "language_info": {
   "codemirror_mode": {
    "name": "ipython",
    "version": 3
   },
   "file_extension": ".py",
   "mimetype": "text/x-python",
   "name": "python",
   "nbconvert_exporter": "python",
   "pygments_lexer": "ipython3",
   "version": "3.11.6"
  }
 },
 "nbformat": 4,
 "nbformat_minor": 5
}
