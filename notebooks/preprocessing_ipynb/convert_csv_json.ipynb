{
 "cells": [
  {
   "cell_type": "code",
   "execution_count": 1,
   "id": "9218a307-b5ba-46b7-8cff-b0b2c0d0cf92",
   "metadata": {},
   "outputs": [],
   "source": [
    "# The directory for top level folder\n",
    "dir_ = \"/home/sugam/Work/10-19 NLP/12 Projects/Resume Builder/data/\""
   ]
  },
  {
   "cell_type": "code",
   "execution_count": 2,
   "id": "2f2a4fce-07c3-4696-b7d2-16afd8c467ca",
   "metadata": {},
   "outputs": [],
   "source": [
    "raw_data_dir = dir_ + 'raw/'\n",
    "processed_data_dir = dir_+'Processed/'"
   ]
  },
  {
   "cell_type": "code",
   "execution_count": 3,
   "id": "236416d6-b998-4048-8701-9fafbb096cd7",
   "metadata": {},
   "outputs": [],
   "source": [
    "import pandas as pd\n",
    "import numpy as np\n",
    "import re"
   ]
  },
  {
   "cell_type": "code",
   "execution_count": 28,
   "id": "68dcd612-6ed1-4097-ac27-d00468cd1bf2",
   "metadata": {},
   "outputs": [
    {
     "name": "stdout",
     "output_type": "stream",
     "text": [
      "⏳ Loading Data\n",
      "✅ Done Loading\n"
     ]
    }
   ],
   "source": [
    "####################### LOAD DATA\n",
    "##################################################################\n",
    "def load_data(url: str) ->pd.DataFrame:\n",
    "    \"\"\"\n",
    "    Loads the dataframe into memory\n",
    "\n",
    "    Args:\n",
    "      url (string) - the path to the dataframe\n",
    "\n",
    "    Returns:\n",
    "      df (pandas dataframe)\n",
    "    \"\"\"\n",
    "    \n",
    "    print(\"⏳ Loading Data\")\n",
    "    \n",
    "    # Refering our data without any modification and dtype\n",
    "    if(url[-3:]==\"csv\"):\n",
    "        df = pd.read_csv(url)\n",
    "        \n",
    "        for col in list(df):  # List out the column names\n",
    "            if \"Unnamed\" in col:  # Checks if the column contains Unnamed in it \n",
    "                df.drop(col, axis=1,inplace=True) # Removes the Garbage column\n",
    "    else:\n",
    "        df = pd.read_json(url, lines=True)\n",
    "\n",
    "\n",
    "    \n",
    "    print(f\"✅ Done Loading\")    \n",
    "    return df\n",
    "\n",
    "\n",
    "df_dir= processed_data_dir+\"final.csv\"\n",
    "\n",
    "df = load_data(df_dir)"
   ]
  },
  {
   "cell_type": "code",
   "execution_count": 29,
   "id": "ae836c9c-d7dc-40f0-94a1-0eddfa8d3f38",
   "metadata": {},
   "outputs": [],
   "source": [
    "### Separating the top 1000 for making question answering dataset\n",
    "df = df[[\"jobtitle\",\"company\",\"job_role\",\"joblocation\",\"education\",\"experience\",\"skills\",\"industry\",\"payrate\"]]\n",
    "df_1000 = df.iloc[:1000].copy()"
   ]
  },
  {
   "cell_type": "code",
   "execution_count": 30,
   "id": "16432f8b-f949-44c3-a076-76bc87c44c36",
   "metadata": {},
   "outputs": [
    {
     "data": {
      "text/html": [
       "<div>\n",
       "<style scoped>\n",
       "    .dataframe tbody tr th:only-of-type {\n",
       "        vertical-align: middle;\n",
       "    }\n",
       "\n",
       "    .dataframe tbody tr th {\n",
       "        vertical-align: top;\n",
       "    }\n",
       "\n",
       "    .dataframe thead th {\n",
       "        text-align: right;\n",
       "    }\n",
       "</style>\n",
       "<table border=\"1\" class=\"dataframe\">\n",
       "  <thead>\n",
       "    <tr style=\"text-align: right;\">\n",
       "      <th></th>\n",
       "      <th>jobtitle</th>\n",
       "      <th>company</th>\n",
       "      <th>job_role</th>\n",
       "      <th>joblocation</th>\n",
       "      <th>education</th>\n",
       "      <th>experience</th>\n",
       "      <th>skills</th>\n",
       "      <th>industry</th>\n",
       "      <th>payrate</th>\n",
       "    </tr>\n",
       "  </thead>\n",
       "  <tbody>\n",
       "    <tr>\n",
       "      <th>0</th>\n",
       "      <td>Walkin Data Entry Operator (night Shift)</td>\n",
       "      <td>MM Media Pvt Ltd</td>\n",
       "      <td>Fresher Keyskills English Typing Part Time Dat...</td>\n",
       "      <td>Bangalore</td>\n",
       "      <td>Postgraduate</td>\n",
       "      <td>0 - 1 yrs</td>\n",
       "      <td>ITES</td>\n",
       "      <td>Media / Entertainment / Internet</td>\n",
       "      <td>1,50,000 - 2,25,000 P.A</td>\n",
       "    </tr>\n",
       "    <tr>\n",
       "      <th>1</th>\n",
       "      <td>Work Based Onhome Based Part Time.</td>\n",
       "      <td>find live infotech</td>\n",
       "      <td>Search Engine Marketing/SEM Specialist Keyskil...</td>\n",
       "      <td>Lucknow</td>\n",
       "      <td>M.Tech</td>\n",
       "      <td>0 - 0 yrs</td>\n",
       "      <td>Marketing</td>\n",
       "      <td>Advertising / PR / MR / Event Management</td>\n",
       "      <td>1,50,000 - 2,50,000 P.A. 20000</td>\n",
       "    </tr>\n",
       "    <tr>\n",
       "      <th>2</th>\n",
       "      <td>Pl/sql Developer - SQL</td>\n",
       "      <td>Softtech Career Infosystem Pvt. Ltd</td>\n",
       "      <td>Software Developer Keyskills SQL Loader PL SQL...</td>\n",
       "      <td>Hyderabad</td>\n",
       "      <td>M.Sc(Science)-Computers</td>\n",
       "      <td>4 - 8 yrs</td>\n",
       "      <td>IT Software - Application Programming</td>\n",
       "      <td>IT-Software / Software Services</td>\n",
       "      <td>Not Disclosed by Recruiter</td>\n",
       "    </tr>\n",
       "    <tr>\n",
       "      <th>3</th>\n",
       "      <td>Manager/ad/partner - Indirect Tax - CA</td>\n",
       "      <td>Onboard HRServices LLP</td>\n",
       "      <td>Taxation(Indirect) Manager Keyskills Service T...</td>\n",
       "      <td>Chennai</td>\n",
       "      <td>MS/M.Sc(Science)</td>\n",
       "      <td>11 - 15 yrs</td>\n",
       "      <td>Accounts</td>\n",
       "      <td>Banking / Financial Services / Broking</td>\n",
       "      <td>Not Disclosed by Recruiter</td>\n",
       "    </tr>\n",
       "    <tr>\n",
       "      <th>4</th>\n",
       "      <td>JAVA Technical Lead (6-8 yrs) -</td>\n",
       "      <td>Spire Technologies and Solutions Pvt. Ltd.</td>\n",
       "      <td>Team Lead/Technical Lead Keyskills Javascript ...</td>\n",
       "      <td>Pune</td>\n",
       "      <td>Diploma-Electronics/Telecommunication</td>\n",
       "      <td>6 - 8 yrs</td>\n",
       "      <td>IT Software - Application Programming</td>\n",
       "      <td>IT-Software / Software Services</td>\n",
       "      <td>Not Disclosed by Recruiter</td>\n",
       "    </tr>\n",
       "  </tbody>\n",
       "</table>\n",
       "</div>"
      ],
      "text/plain": [
       "                                   jobtitle  \\\n",
       "0  Walkin Data Entry Operator (night Shift)   \n",
       "1        Work Based Onhome Based Part Time.   \n",
       "2                    Pl/sql Developer - SQL   \n",
       "3    Manager/ad/partner - Indirect Tax - CA   \n",
       "4           JAVA Technical Lead (6-8 yrs) -   \n",
       "\n",
       "                                      company  \\\n",
       "0                            MM Media Pvt Ltd   \n",
       "1                          find live infotech   \n",
       "2         Softtech Career Infosystem Pvt. Ltd   \n",
       "3                      Onboard HRServices LLP   \n",
       "4  Spire Technologies and Solutions Pvt. Ltd.   \n",
       "\n",
       "                                            job_role joblocation  \\\n",
       "0  Fresher Keyskills English Typing Part Time Dat...   Bangalore   \n",
       "1  Search Engine Marketing/SEM Specialist Keyskil...     Lucknow   \n",
       "2  Software Developer Keyskills SQL Loader PL SQL...   Hyderabad   \n",
       "3  Taxation(Indirect) Manager Keyskills Service T...     Chennai   \n",
       "4  Team Lead/Technical Lead Keyskills Javascript ...        Pune   \n",
       "\n",
       "                               education   experience  \\\n",
       "0                           Postgraduate    0 - 1 yrs   \n",
       "1                                 M.Tech    0 - 0 yrs   \n",
       "2                M.Sc(Science)-Computers    4 - 8 yrs   \n",
       "3                       MS/M.Sc(Science)  11 - 15 yrs   \n",
       "4  Diploma-Electronics/Telecommunication    6 - 8 yrs   \n",
       "\n",
       "                                  skills  \\\n",
       "0                                   ITES   \n",
       "1                              Marketing   \n",
       "2  IT Software - Application Programming   \n",
       "3                               Accounts   \n",
       "4  IT Software - Application Programming   \n",
       "\n",
       "                                   industry                         payrate  \n",
       "0          Media / Entertainment / Internet         1,50,000 - 2,25,000 P.A  \n",
       "1  Advertising / PR / MR / Event Management  1,50,000 - 2,50,000 P.A. 20000  \n",
       "2           IT-Software / Software Services      Not Disclosed by Recruiter  \n",
       "3    Banking / Financial Services / Broking      Not Disclosed by Recruiter  \n",
       "4           IT-Software / Software Services      Not Disclosed by Recruiter  "
      ]
     },
     "execution_count": 30,
     "metadata": {},
     "output_type": "execute_result"
    }
   ],
   "source": [
    "df_1000.head()"
   ]
  },
  {
   "cell_type": "code",
   "execution_count": 31,
   "id": "a1f2d690-0d22-4d9e-85c1-c12db37fca5d",
   "metadata": {},
   "outputs": [],
   "source": [
    "df_1000 = (\n",
    "    \"JT_\" + df_1000[\"jobtitle\"] + \\\n",
    "    \",CO_\" + df_1000[\"company\"] +\\\n",
    "    \",JR_\" + df_1000[\"job_role\"] + \\\n",
    "    \",JL_\" + df_1000[\"joblocation\"] + \\\n",
    "    \",ED_\" + df_1000[\"education\"] + \\\n",
    "    \",EX_\" + df_1000[\"experience\"] + \\\n",
    "    \",SK_\" + df_1000[\"skills\"] + \\\n",
    "    \",IN_\" + df_1000[\"industry\"] + \\\n",
    "    \",PR_\" + df_1000[\"payrate\"]\n",
    ")"
   ]
  },
  {
   "cell_type": "code",
   "execution_count": 39,
   "id": "24218791-0684-4e33-b678-6522a12e2a95",
   "metadata": {},
   "outputs": [],
   "source": [
    "def remove_garbage(x):\n",
    "    x = re.sub(r\"/\",\",\",str(x)) # Replace \\n with nothing\n",
    "    x = re.sub(r\"\\xa0\",\"\",str(x)) # Replace \\n with nothing\n",
    "    \n",
    "    return x\n",
    "    \n",
    "\n",
    "df_1000 = df_1000.map(remove_garbage)"
   ]
  },
  {
   "cell_type": "code",
   "execution_count": 46,
   "id": "b1432ca6-21f2-46d8-b130-cd1ff7e14f94",
   "metadata": {},
   "outputs": [],
   "source": [
    "def find_index(row,df):\n",
    "    title_index = df[row].find(\"JT_\") + 3\n",
    "    company_index = df[row].find(\"CO_\") + 3\n",
    "    job_role_index = df[row].find(\"JR_\") + 3\n",
    "    job_location_index = df[row].find(\"JL_\") + 3\n",
    "    education_index = df[row].find(\"ED_\") + 3\n",
    "    experience_index = df[row].find(\"EX_\") + 3\n",
    "    skills_index = df[row].find(\"IN_\") + 3\n",
    "    payrate_index = df[row].find(\"PR_\") + 3\n",
    "\n",
    "    print(f\"title_index {title_index}\")\n",
    "    print(f\"company_index {company_index}\")\n",
    "    print(f\"job_role_index {job_role_index}\")\n",
    "    print(f\"job_location_index {job_location_index}\")\n",
    "    print(f\"education_index {education_index}\")\n",
    "    print(f\"experience_index {experience_index}\")\n",
    "    print(f\"skills_index {skills_index}\")\n",
    "    print(f\"payrate_index {payrate_index}\")"
   ]
  },
  {
   "cell_type": "code",
   "execution_count": 50,
   "id": "9392d3f2-a2f4-452a-a051-55557155eda1",
   "metadata": {},
   "outputs": [
    {
     "name": "stdout",
     "output_type": "stream",
     "text": [
      "title_index 3\n",
      "company_index 35\n",
      "job_role_index 46\n",
      "job_location_index 257\n",
      "education_index 268\n",
      "experience_index 280\n",
      "skills_index 302\n",
      "payrate_index 329\n"
     ]
    }
   ],
   "source": [
    "find_index(10,df_1000)"
   ]
  },
  {
   "cell_type": "code",
   "execution_count": 51,
   "id": "4160a69e-2434-4577-b401-97d2eb23d863",
   "metadata": {},
   "outputs": [
    {
     "data": {
      "text/plain": [
       "'Sales,Business Development Manager Keyskills Business Development Management Sales Selling Profitability New Business Communication Skills Desired Candidate Profile Please refer to the Job description above ,JL_'"
      ]
     },
     "execution_count": 51,
     "metadata": {},
     "output_type": "execute_result"
    }
   ],
   "source": [
    "df_1000[10][46:257]"
   ]
  },
  {
   "cell_type": "code",
   "execution_count": 53,
   "id": "fa35ccab-e04c-4396-b840-f634abc8b48f",
   "metadata": {},
   "outputs": [],
   "source": [
    "json_objects= []\n",
    "for index, value in df_1000.items():\n",
    "    json_objects.append({\"context\":value})"
   ]
  },
  {
   "cell_type": "code",
   "execution_count": 54,
   "id": "86d7b18c-858a-4a65-b013-8a0dce694fcd",
   "metadata": {},
   "outputs": [],
   "source": [
    "df2 = pd.DataFrame(json_objects)"
   ]
  },
  {
   "cell_type": "code",
   "execution_count": 55,
   "id": "58ff4342-15e3-4184-99c8-412f1f2eb1ce",
   "metadata": {},
   "outputs": [],
   "source": [
    "# Convert the DataFrame to JSON\n",
    "json_data = df2.to_json(orient='records')\n",
    "\n",
    "file_path = processed_data_dir+\"first_1000.json\"\n",
    "# Write the JSON data to the file\n",
    "with open(file_path, 'w') as json_file:\n",
    "    json_file.write(json_data)"
   ]
  },
  {
   "cell_type": "code",
   "execution_count": null,
   "id": "9c6744a4-b2e8-4c8f-8257-e0218bbaf53f",
   "metadata": {},
   "outputs": [],
   "source": []
  }
 ],
 "metadata": {
  "kernelspec": {
   "display_name": "Python 3 (ipykernel)",
   "language": "python",
   "name": "python3"
  },
  "language_info": {
   "codemirror_mode": {
    "name": "ipython",
    "version": 3
   },
   "file_extension": ".py",
   "mimetype": "text/x-python",
   "name": "python",
   "nbconvert_exporter": "python",
   "pygments_lexer": "ipython3",
   "version": "3.11.6"
  }
 },
 "nbformat": 4,
 "nbformat_minor": 5
}
