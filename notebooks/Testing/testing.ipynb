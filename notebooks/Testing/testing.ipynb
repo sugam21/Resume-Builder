{
 "cells": [
  {
   "cell_type": "code",
   "execution_count": 1,
   "metadata": {},
   "outputs": [
    {
     "name": "stderr",
     "output_type": "stream",
     "text": [
      "2023-11-08 23:32:57.571999: I tensorflow/core/platform/cpu_feature_guard.cc:193] This TensorFlow binary is optimized with oneAPI Deep Neural Network Library (oneDNN) to use the following CPU instructions in performance-critical operations:  SSE4.1 SSE4.2 AVX AVX2 FMA\n",
      "To enable them in other operations, rebuild TensorFlow with the appropriate compiler flags.\n",
      "/home/sugam/miniconda3/envs/simple_transformer/lib/python3.9/site-packages/tqdm/auto.py:21: TqdmWarning: IProgress not found. Please update jupyter and ipywidgets. See https://ipywidgets.readthedocs.io/en/stable/user_install.html\n",
      "  from .autonotebook import tqdm as notebook_tqdm\n"
     ]
    }
   ],
   "source": [
    "import pandas as pd\n",
    "import numpy as np\n",
    "import pickle\n",
    "from simpletransformers.question_answering import QuestionAnsweringModel"
   ]
  },
  {
   "cell_type": "code",
   "execution_count": null,
   "metadata": {},
   "outputs": [],
   "source": [
    "# The directory for top level folder\n",
    "model_dir_ = \"/home/sugam/Work/10-19 NLP/12 Projects/Resume Builder/Output/\"\n",
    "data_dir =  \"/home/sugam/Work/10-19 NLP/12 Projects/Resume Builder/data/Processed/\"\n",
    "\n",
    "model = model_dir_ + \"bert\"\n",
    "test_data = data_dir + \"test_json.json\"\n",
    "context_data = data_dir + \"context_data.csv\""
   ]
  },
  {
   "cell_type": "code",
   "execution_count": null,
   "metadata": {},
   "outputs": [],
   "source": [
    "model = QuestionAnsweringModel(\"bert\",model+\"/best_model/\",use_cuda=False)"
   ]
  },
  {
   "cell_type": "code",
   "execution_count": 10,
   "metadata": {},
   "outputs": [
    {
     "name": "stderr",
     "output_type": "stream",
     "text": [
      "convert squad examples to features: 100%|██████████| 1/1 [00:00<00:00, 108.91it/s]\n",
      "add example index and unique id: 100%|██████████| 1/1 [00:00<00:00, 14122.24it/s]\n",
      "Running Prediction: 100%|██████████| 1/1 [00:00<00:00,  1.34it/s]\n"
     ]
    }
   ],
   "source": [
    "test_data = [{'context': 'JT_Engineers- Production, Planning, Supervisors- Auto & Mech Industry,CO_PS Consultant,JR_Role:Fresher Keyskills design service Maintenance fabrication site safety quality control Production Production Planning Tool Room Operations Tool Making Tool Manufacturing Machine shop CNC Machining Press Shop Production Supervising Desired Candidate Profile Please refer to the Job description above Company Profile: PS Consultant PS Consultant Download PPT Photo 1  View Contact Details,JL_Kolkata,ED_BTech,BE-Electrical,EX_0 - 5 yrs,SK_Production,IN_Automobile , Auto Anciliary , Auto Components,PR_Not Disclosed by Recruiter',\n",
    "  'qas': [{'question': 'what is job provided by inbiopro solutions pvt ltd company with autocad as input?',\n",
    "    'id': '0'}]}]\n",
    "predictions, raw_input = model.predict(test_data)"
   ]
  },
  {
   "cell_type": "code",
   "execution_count": 16,
   "metadata": {},
   "outputs": [
    {
     "data": {
      "text/plain": [
       "'Engineers- Production, Planning, Supervisors- Auto & Mech Industry'"
      ]
     },
     "execution_count": 16,
     "metadata": {},
     "output_type": "execute_result"
    }
   ],
   "source": [
    "predictions[0][\"answer\"][0]"
   ]
  },
  {
   "cell_type": "code",
   "execution_count": null,
   "metadata": {},
   "outputs": [],
   "source": []
  }
 ],
 "metadata": {
  "kernelspec": {
   "display_name": "simple_transformer",
   "language": "python",
   "name": "python3"
  },
  "language_info": {
   "codemirror_mode": {
    "name": "ipython",
    "version": 3
   },
   "file_extension": ".py",
   "mimetype": "text/x-python",
   "name": "python",
   "nbconvert_exporter": "python",
   "pygments_lexer": "ipython3",
   "version": "3.9.15"
  }
 },
 "nbformat": 4,
 "nbformat_minor": 2
}
