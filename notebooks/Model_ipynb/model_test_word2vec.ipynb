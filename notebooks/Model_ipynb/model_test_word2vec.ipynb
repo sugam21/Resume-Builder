{
 "cells": [
  {
   "cell_type": "code",
   "execution_count": 15,
   "metadata": {},
   "outputs": [],
   "source": [
    "import pandas as pd\n",
    "import numpy as np\n",
    "import pickle"
   ]
  },
  {
   "cell_type": "code",
   "execution_count": 2,
   "metadata": {},
   "outputs": [],
   "source": [
    "# The directory for top level folder\n",
    "model_dir_ = \"/home/sugam/Work/10-19 NLP/12 Projects/Resume Builder/Output/\"\n",
    "data_dir =  \"/home/sugam/Work/10-19 NLP/12 Projects/Resume Builder/data/Processed/\"\n",
    "\n",
    "model = model_dir_ + \"bert/\"\n",
    "test_data = data_dir + \"test_json.json\"\n",
    "context_data = data_dir + \"context_data.csv\""
   ]
  },
  {
   "cell_type": "code",
   "execution_count": 3,
   "metadata": {},
   "outputs": [],
   "source": [
    "context = pd.read_csv(data_dir+\"context_processed.csv\")\n",
    "context_series = context[\"context\"].copy()\n",
    "del context "
   ]
  },
  {
   "cell_type": "code",
   "execution_count": 6,
   "metadata": {},
   "outputs": [],
   "source": [
    "import gensim\n",
    "from gensim.models import word2vec\n",
    "from gensim.models.word2vec import Word2Vec"
   ]
  },
  {
   "cell_type": "code",
   "execution_count": 7,
   "metadata": {},
   "outputs": [
    {
     "name": "stdout",
     "output_type": "stream",
     "text": [
      "['fasttext-wiki-news-subwords-300', 'conceptnet-numberbatch-17-06-300', 'word2vec-ruscorpora-300', 'word2vec-google-news-300', 'glove-wiki-gigaword-50', 'glove-wiki-gigaword-100', 'glove-wiki-gigaword-200', 'glove-wiki-gigaword-300', 'glove-twitter-25', 'glove-twitter-50', 'glove-twitter-100', 'glove-twitter-200', '__testing_word2vec-matrix-synopsis']\n"
     ]
    }
   ],
   "source": [
    "import gensim.downloader as api\n",
    "print(list(gensim.downloader.info()[\"models\"].keys()))"
   ]
  },
  {
   "cell_type": "code",
   "execution_count": 8,
   "metadata": {},
   "outputs": [
    {
     "name": "stdout",
     "output_type": "stream",
     "text": [
      "[==================================================] 100.0% 252.1/252.1MB downloaded\n"
     ]
    }
   ],
   "source": [
    "wv = api.load(\"glove-wiki-gigaword-200\")"
   ]
  },
  {
   "cell_type": "code",
   "execution_count": 13,
   "metadata": {},
   "outputs": [],
   "source": [
    "wv.save(model_dir_+\"word2vec.pkl\")"
   ]
  },
  {
   "cell_type": "code",
   "execution_count": 14,
   "metadata": {},
   "outputs": [],
   "source": [
    "del wv"
   ]
  },
  {
   "cell_type": "code",
   "execution_count": 17,
   "metadata": {},
   "outputs": [],
   "source": [
    "with open(model_dir_+\"word2vec.pkl\", \"rb\") as file:\n",
    "    wv = pickle.load(file)"
   ]
  },
  {
   "cell_type": "code",
   "execution_count": 19,
   "metadata": {},
   "outputs": [],
   "source": [
    "def sent_vec(sent):\n",
    "  \"\"\"Creates a vector \"\"\"\n",
    "  vector_size = wv.vector_size\n",
    "  wv_res = np.zeros(vector_size)\n",
    "  ctr = 1\n",
    "  for w in sent:\n",
    "    if w in wv:\n",
    "      ctr+=1\n",
    "      wv_res += wv[w]\n",
    "  wv_res = wv_res/ctr\n",
    "  return wv_res\n",
    "\n",
    "#vec = context_series.map(sent_vec)"
   ]
  },
  {
   "cell_type": "code",
   "execution_count": 21,
   "metadata": {},
   "outputs": [],
   "source": [
    "vec = pd.read_pickle(data_dir+\"word2vec_encoding.pkl\")"
   ]
  },
  {
   "cell_type": "code",
   "execution_count": 22,
   "metadata": {},
   "outputs": [
    {
     "data": {
      "text/plain": [
       "array([ 5.95348906e-02,  5.46108275e-01, -2.91616129e-01, -1.55705446e-02,\n",
       "       -6.28109366e-03, -2.50919619e-01, -1.93988817e-01, -1.59696435e-01,\n",
       "       -4.52732340e-01, -1.23952991e-01, -4.18493507e-01,  1.67459591e-01,\n",
       "        6.89123542e-02,  4.56727161e-02,  3.77222669e-01, -1.09774932e-01,\n",
       "       -3.42669921e-01, -2.40560407e-02, -2.76036581e-01, -3.02050601e-01,\n",
       "       -4.18740153e-02,  1.64162934e+00, -3.88264761e-01,  7.54642821e-02,\n",
       "        5.26489215e-01, -2.33269106e-01, -3.35682403e-01,  8.67535432e-02,\n",
       "        9.94763978e-02,  4.22760822e-01, -1.42367083e-01,  4.16239226e-01,\n",
       "       -3.25466158e-01, -3.08522302e-01, -1.32562362e-01, -1.09242678e-01,\n",
       "       -2.30010372e-01, -3.27573449e-01, -1.54144463e-01,  4.39120668e-02,\n",
       "       -2.80484226e-01, -1.01047390e-01,  6.75201968e-02,  2.35008896e-01,\n",
       "       -2.77403038e-01, -9.03834948e-02,  5.14660663e-01, -4.18795906e-01,\n",
       "        1.93726892e-02, -1.91417473e-01,  3.50669777e-01, -3.91123613e-02,\n",
       "        2.22979092e-01,  1.99602625e-01,  3.26797134e-01,  1.38776540e-01,\n",
       "       -1.42060003e-01,  9.37906808e-02,  7.13051464e-02, -1.95815029e-01,\n",
       "        2.28540569e-01, -2.08392453e-01, -3.35449308e-01, -7.36594864e-02,\n",
       "       -1.21208110e-01, -6.37119433e-01, -1.76972410e-01,  4.88494959e-02,\n",
       "        7.99561643e-01,  5.08277310e-01,  2.92589553e-01,  5.13440720e-02,\n",
       "       -2.35467010e-01, -3.14381022e-01, -9.25928897e-03,  4.19711445e-01,\n",
       "       -1.26433913e-01, -4.08618138e-01, -2.62888217e-01,  2.60593102e-01,\n",
       "       -1.51942988e-01, -2.71130367e-01, -7.06995077e-02,  1.67056265e-01,\n",
       "        2.24036126e-01, -2.90618548e-01, -2.10562066e-01, -1.24966810e-01,\n",
       "        3.66556067e-01, -3.52457108e-01,  9.50026817e-02, -1.34385387e-02,\n",
       "        1.88636659e-01,  6.58983372e-02,  1.77948554e-02, -1.74553873e-02,\n",
       "        1.06445926e-01,  4.70375533e-03, -1.30758721e-01,  4.21574554e-02,\n",
       "        8.28649135e-02, -1.11447212e-04,  4.13865151e-01, -1.30261427e-01,\n",
       "        3.78999211e-01, -2.67932168e-01,  7.84112594e-02,  9.01141279e-01,\n",
       "       -1.54030820e-01,  4.92080565e-01, -4.76414584e-01, -3.66207618e-02,\n",
       "       -1.54918559e-02,  1.57583977e-01, -4.32824926e-01, -3.58772906e-02,\n",
       "        2.15547670e-01,  2.64135523e-01,  7.75157823e-02,  4.91370422e-01,\n",
       "        2.02622466e-01,  5.75257318e-03,  1.87593985e-01, -1.22123532e-01,\n",
       "        2.16555274e-01, -5.10571063e-01,  2.75667244e-01,  3.11124552e-02,\n",
       "        2.39340666e-01, -8.27237930e-02, -6.14529757e-02, -5.15005326e-01,\n",
       "        4.22807497e-02,  4.17635704e-02, -1.57671159e-01, -2.86868525e-01,\n",
       "       -2.42283729e-01,  1.98785559e-02, -1.29178720e-01, -1.41814084e-01,\n",
       "       -1.17278653e-02, -7.14848189e-02,  3.79899248e-02, -5.85604146e-01,\n",
       "        8.52038494e-01, -1.90216132e-01, -1.77833333e-01,  1.67649152e-01,\n",
       "       -1.82338588e-01,  1.52851351e-01, -3.36075787e-02,  7.52195972e-01,\n",
       "        1.38952160e-01, -4.25669595e-02, -6.70589000e-02, -1.55272822e-01,\n",
       "       -4.51260077e-02, -2.38582157e-01, -4.68796613e-02, -6.15971421e-01,\n",
       "       -5.51805479e-02, -1.74605968e-01,  9.25577669e-02,  1.43755531e-01,\n",
       "       -4.35438993e-01,  3.43664320e-01,  1.85617261e-02,  4.58668230e-03,\n",
       "        1.71097480e-01,  2.80546723e-01,  4.03292028e-01,  7.05303848e-02,\n",
       "        8.44101835e-01, -7.16001733e-02, -2.10461959e-01, -1.63699850e-03,\n",
       "        1.18765591e-03,  1.65265339e-01, -9.15947448e-02,  9.93647618e-02,\n",
       "        5.88236604e-01, -1.35242224e-01, -1.13351996e-01,  2.73541641e-01,\n",
       "        2.11578028e-01, -8.31083377e-01, -2.73007209e-02,  1.38067907e-02,\n",
       "        1.85288516e-01, -4.60161268e-01, -6.08911602e-01,  6.40208534e-03,\n",
       "        1.56316870e-01,  2.99288412e-01,  1.71741503e-01,  2.19002585e-01,\n",
       "        5.20336038e-02,  1.00019612e-01,  3.37612356e-01,  4.81344394e-01])"
      ]
     },
     "execution_count": 22,
     "metadata": {},
     "output_type": "execute_result"
    }
   ],
   "source": [
    "def cosine_similarity(row):\n",
    "    "
   ]
  },
  {
   "cell_type": "code",
   "execution_count": 10,
   "metadata": {},
   "outputs": [],
   "source": [
    "question = \"What is job provided by Lok Bharti Skilling Solution Pvt Ltd company?\"\n",
    "question_vector = sent_vec(question)"
   ]
  },
  {
   "cell_type": "code",
   "execution_count": null,
   "metadata": {},
   "outputs": [],
   "source": []
  }
 ],
 "metadata": {
  "kernelspec": {
   "display_name": "simple_transformer",
   "language": "python",
   "name": "python3"
  },
  "language_info": {
   "codemirror_mode": {
    "name": "ipython",
    "version": 3
   },
   "file_extension": ".py",
   "mimetype": "text/x-python",
   "name": "python",
   "nbconvert_exporter": "python",
   "pygments_lexer": "ipython3",
   "version": "3.9.15"
  }
 },
 "nbformat": 4,
 "nbformat_minor": 2
}
